{
 "cells": [
  {
   "cell_type": "markdown",
   "metadata": {},
   "source": [
    "I collected a memroy image of my Windows VM. Before I could collect the memory image, I had to elevate the console to Admin."
   ]
  },
  {
   "cell_type": "code",
   "execution_count": null,
   "metadata": {},
   "outputs": [],
   "source": [
    "Start-Process powershell -Verb runAs"
   ]
  },
  {
   "cell_type": "markdown",
   "metadata": {},
   "source": [
    "After elevating to Admin, I was then able to succesfully collect a memory image."
   ]
  },
  {
   "cell_type": "code",
   "execution_count": null,
   "metadata": {},
   "outputs": [],
   "source": [
    "./winpmem.exe -o labmem.aff -dd"
   ]
  }
 ],
 "metadata": {
  "kernelspec": {
   "display_name": "Python 3",
   "language": "python",
   "name": "python3"
  },
  "language_info": {
   "codemirror_mode": {
    "name": "ipython",
    "version": 3
   },
   "file_extension": ".py",
   "mimetype": "text/x-python",
   "name": "python",
   "nbconvert_exporter": "python",
   "pygments_lexer": "ipython3",
   "version": "3.7.1"
  }
 },
 "nbformat": 4,
 "nbformat_minor": 2
}
