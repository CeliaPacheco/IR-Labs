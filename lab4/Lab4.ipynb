{
 "cells": [
  {
   "cell_type": "markdown",
   "metadata": {},
   "source": [
    "# Lab 4\n",
    "### Live Response and Disk Imaging\n",
    "\n",
    "## KAPE\n",
    "\n",
    "My KAPE settings are \n",
    "\n",
    "`./kape --tsource C: --tdst <Fill with either external hdd or server> --target KapeTriage,WindowsDefender --vss --vhdx $env:ComputerName `\n",
    "\n",
    "### Breakdown of options\n",
    "\n",
    "* `--tsource C:` This was choosen because the C: directory usually contains the entire Windows OS and the things we are interested in\n",
    "* `--tdest <Fill with either external hdd or server>` Evidence should be gathered to a location other than the system being analyzed such as an external drive or server location\n",
    "* `--target KapeTriage,WindowsDefender` Looking at the description of available targes, the *KapeTriage* targed seemed to be the best for gathering live response data. This target gathers File System files, Registry Hives, Event Logs, Scheduled Tasks, Evidence of Execution, SRUM data, Web Browser data, LNK Files, Jump Lists, 3rd party remote access software logs, and 3rd party antivirus software logs. *WindowsDefender* was choosen because the *KapeTriage* didn't gather that data aswell.\n",
    "* `--vss` The was selected to gather the shandow copies which can contain \n"
   ]
  },
  {
   "cell_type": "code",
   "execution_count": null,
   "metadata": {},
   "outputs": [],
   "source": []
  }
 ],
 "metadata": {
  "kernelspec": {
   "display_name": "PowerShell",
   "language": "powershell",
   "name": "powershell"
  },
  "language_info": {
   "codemirror_mode": "shell",
   "file_extension": ".ps1",
   "mimetype": "text/x-sh",
   "name": "powershell"
  }
 },
 "nbformat": 4,
 "nbformat_minor": 2
}
