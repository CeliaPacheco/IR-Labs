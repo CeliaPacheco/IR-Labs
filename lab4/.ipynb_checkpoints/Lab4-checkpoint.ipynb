{
 "cells": [
  {
   "cell_type": "markdown",
   "metadata": {},
   "source": [
    "# Lab 4\n",
    "### Live Response and Disk Imaging\n",
    "\n",
    "## KAPE\n",
    "\n",
    "My KAPE settings are \n",
    "\n",
    "`./kape --tsource C: --tdst <Fill with either external hdd or server> --target KapeTriage,WindowsDefender --vss --vhdx $env:ComputerName `\n",
    "\n",
    "### Breakdown of options\n",
    "\n",
    "* `--tsource C:` This was choosen because the C: directory usually contains the entire Windows OS and the things we are interested in\n",
    "* `--tdest <Fill with either external hdd or server>` Evidence should be gathered to a location other than the system being analyzed such as an external drive or server location\n",
    "* `--target KapeTriage,WindowsDefender` Looking at the description of available targes, the *KapeTriage* targed seemed to be the best for gathering live response data. This target gathers File System files, Registry Hives, Event Logs, Scheduled Tasks, Evidence of Execution, SRUM data, Web Browser data, LNK Files, Jump Lists, 3rd party remote access software logs, and 3rd party antivirus software logs. *WindowsDefender* was choosen because the *KapeTriage* didn't gather that data aswell.\n",
    "* `--vss` The was selected to gather the shandow copies which can contain helpful information\n"
   ]
  },
  {
   "cell_type": "markdown",
   "metadata": {},
   "source": [
    "## Image Aquisition\n",
    "*Note: The following are outputs from a Lubunu VM*\n",
    "### dd\n",
    "\n",
    "    sudo dd if=/dev/sda of=ddimg.raw conv=noerror,sync status=progress\n",
    "    [sudo] password for lubuntu: \n",
    "    10735801344 bytes (11 GB, 10 GiB) copied, 2555 s, 4.2 MB/s \n",
    "    20971520+0 records in\n",
    "    20971520+0 records out\n",
    "    10737418240 bytes (11 GB, 10 GiB) copied, 2555.16 s, 4.2 MB/s\n",
    "    \n",
    "    md5sum ddimg.raw \n",
    "    df3536011bd2daf8e7291bc2eeb1b988  ddimg.raw\n",
    "    \n",
    "    sha256sum ddimg.raw \n",
    "    87231fcd14f57c429e64e7181c733dd2435334b28407e858f94e957cdfe6bac5  ddimg.raw\n",
    "\n",
    "\n",
    "### dcfldd\n",
    "This one was much faster than the `dd`\n",
    "\n",
    "    sudo dcfldd if=/dev/sda of=ddflddimg.raw conv=noerror,sync hash=md5,sha256\n",
    "    327680 blocks (10240Mb) written.\n",
    "    Total (md5): b10279cda77ceb5691a2b7299ab81ba8\n",
    "\n",
    "    Total (sha256): 1d7e47d59a6b79c56f9001ed1097f8e94f17a793120c44ddc4d593849e4f61f1\n",
    "\n",
    "    327680+0 records in\n",
    "    327680+0 records out\n"
   ]
  },
  {
   "cell_type": "code",
   "execution_count": null,
   "metadata": {},
   "outputs": [],
   "source": []
  }
 ],
 "metadata": {
  "kernelspec": {
   "display_name": "PowerShell",
   "language": "powershell",
   "name": "powershell"
  },
  "language_info": {
   "codemirror_mode": "shell",
   "file_extension": ".ps1",
   "mimetype": "text/x-sh",
   "name": "powershell"
  }
 },
 "nbformat": 4,
 "nbformat_minor": 2
}
